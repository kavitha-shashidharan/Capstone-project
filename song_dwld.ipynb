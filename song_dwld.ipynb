{
 "cells": [
  {
   "cell_type": "code",
   "execution_count": null,
   "metadata": {},
   "outputs": [],
   "source": [
    "import pandas as pd\n",
    "import numpy as np\n",
    "import librosa\n",
    "import IPython.display as ipd\n",
    "import matplotlib.pyplot as plt\n",
    "import librosa.display\n",
    "%matplotlib inline\n",
    "\n",
    "import warnings\n",
    "warnings.filterwarnings('ignore')"
   ]
  },
  {
   "cell_type": "code",
   "execution_count": null,
   "metadata": {},
   "outputs": [],
   "source": [
    "cmap = plt.get_cmap('inferno')\n",
    "genre = ['happy', 'sad']\n",
    "song_list = []\n",
    "x = 'mp3'\n",
    "for g in genre:\n",
    "    pathlib.Path(f'img_data/{g}').mkdir(parents=True, exist_ok=True) \n",
    "    for file in os.listdir(f'{g}'):\n",
    "        if x in file:\n",
    "            songname = f'{g}/{file}'\n",
    "    #print(songname)\n",
    "            y, sr = librosa.load(songname, duration = 20, sr = 44100)\n",
    "            plt.specgram(y, NFFT=2048, Fs=2, Fc=0, noverlap=128, cmap=cmap, sides='default', mode='default', scale='dB');\n",
    "            plt.axis('off');\n",
    "            plt.savefig(f'img_data/{g}/{file[:-3].replace(\".\", \"\")}.png')\n",
    "            plt.clf()"
   ]
  },
  {
   "cell_type": "code",
   "execution_count": null,
   "metadata": {},
   "outputs": [],
   "source": [
    "header = 'filename chroma_stft rmse spectral_centroid spectral_bandwidth rolloff zero_crossing_rate'\n",
    "for i in range(1, 21):\n",
    "    header += f' mfcc{i}'\n",
    "header += ' label'\n",
    "header = header.split()"
   ]
  },
  {
   "cell_type": "code",
   "execution_count": null,
   "metadata": {},
   "outputs": [],
   "source": [
    "song_file = open('song_data.csv', 'w', newline='')\n",
    "with song_file:\n",
    "    writer = csv.writer(song_file)\n",
    "    writer.writerow(header)"
   ]
  },
  {
   "cell_type": "code",
   "execution_count": null,
   "metadata": {},
   "outputs": [],
   "source": [
    "for g in genre:\n",
    "    for file in os.listdir(f'{g}'):\n",
    "        if x in file:\n",
    "            songname = f'{g}/{file}'\n",
    "            y, sr = librosa.load(songname, duration = 20, sr = 44100)\n",
    "            chroma_stft = (librosa.feature.chroma_stft(y=y, sr=sr))\n",
    "            rmse = (librosa.feature.rms(y = y))\n",
    "            spec_cent = (librosa.feature.spectral_centroid(y=y, sr=sr))\n",
    "            spec_bw = (librosa.feature.spectral_bandwidth(y=y, sr=sr))\n",
    "            rolloff = (librosa.feature.spectral_rolloff(y=y, sr=sr))\n",
    "            zcr = (librosa.feature.zero_crossing_rate(y))\n",
    "            mfcc = (librosa.feature.mfcc(y=y, sr=sr))\n",
    "            to_append = f'{file} {np.mean(chroma_stft)} {np.mean(rmse)} {np.mean(spec_cent)} {np.mean(spec_bw)} {np.mean(rolloff)} {np.mean(zcr)}'    \n",
    "            for e in mfcc:\n",
    "                to_append += f' {np.mean(e)}'\n",
    "            to_append += f' {g}'\n",
    "            song_file = open('song_data.csv', 'a', newline='')\n",
    "            with song_file:\n",
    "                writer = csv.writer(song_file)\n",
    "                writer.writerow(to_append.split())"
   ]
  },
  {
   "cell_type": "code",
   "execution_count": null,
   "metadata": {},
   "outputs": [],
   "source": [
    "df = pd.read_csv('song_data.csv')"
   ]
  },
  {
   "cell_type": "code",
   "execution_count": null,
   "metadata": {},
   "outputs": [],
   "source": []
  }
 ],
 "metadata": {
  "kernelspec": {
   "display_name": "Python 3",
   "language": "python",
   "name": "python3"
  },
  "language_info": {
   "codemirror_mode": {
    "name": "ipython",
    "version": 3
   },
   "file_extension": ".py",
   "mimetype": "text/x-python",
   "name": "python",
   "nbconvert_exporter": "python",
   "pygments_lexer": "ipython3",
   "version": "3.7.4"
  }
 },
 "nbformat": 4,
 "nbformat_minor": 2
}
